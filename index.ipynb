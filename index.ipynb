{
 "cells": [
  {
   "cell_type": "markdown",
   "metadata": {},
   "source": [
    "# Data analysis in base python"
   ]
  },
  {
   "cell_type": "markdown",
   "metadata": {},
   "source": [
    "\n",
    "## Understanding File paths \n",
    "Understanding file paths is crucial for navigating and accessing files on a computer's file system. A file path specifies the location of a file or directory in a hierarchical structure. Here's a brief introduction to file paths:\n",
    "\n",
    "1. **Absolute Path**: An absolute path specifies the exact location of a file or directory from the root directory of the file system. It includes the full directory hierarchy necessary to locate the file. For example:\n",
    "   - On Unix-like systems (Linux, macOS): `/home/user/documents/file.txt`\n",
    "   - On Windows: `C:\\Users\\User\\Documents\\file.txt`\n",
    "\n",
    "2. **Relative Path**: A relative path specifies the location of a file or directory relative to the current working directory. It does not start from the root directory. For example:\n",
    "   - `documents/file.txt`: Relative to the current working directory, assuming the file is located in the `documents` directory.\n",
    "   - `../data/file.txt`: Relative to the parent directory of the current working directory, assuming the file is located in the `data` directory, which is one level above the current directory.\n",
    "\n",
    "3. **File Path Components**:\n",
    "   - **Directory**: Part of the path that specifies folders or directories. For example, `/home/user/documents/` or `C:\\Users\\User\\Documents\\`.\n",
    "   - **File Name**: The name of the file, such as `file.txt`.\n",
    "   - **Extension**: The part of the file name after the last dot, indicating the file type. For example, `.txt`, `.pdf`, `.jpg`.\n",
    "\n",
    "4. **Special Symbols**:\n",
    "   - **`.` (Dot)**: Represents the current directory.\n",
    "   - **`..` (Double Dot)**: Represents the parent directory.\n",
    "   - ~ **(Tilde)**: Represents the home directory (linux/unix)\n",
    "\n",
    "5. **Platform Differences**:\n",
    "   - Unix-like systems (Linux, macOS) use forward slashes (`/`) as directory separators.\n",
    "   - Windows uses backslashes (`\\`) as directory separators.\n",
    "   - Python provides the `os.path` module, which offers functions to manipulate file paths in a platform-independent manner.\n",
    "\n",
    "Understanding file paths allows you to locate, access, and manipulate files and directories programmatically, which is essential for file I/O operations like reading from and writing to files in Python."
   ]
  },
  {
   "cell_type": "markdown",
   "metadata": {},
   "source": [
    "## File IO\n",
    "\n",
    "File I/O in Python refers to Input/Output operations involving files. It allows you to read from and write to files on your computer's storage. Here's a brief overview:\n",
    "\n",
    "1. **Opening a File**: You start by opening a file using the `open()` function, specifying the file path and the mode ('r' for reading, 'w' for writing, 'a' for appending, etc.).\n",
    "\n",
    "2. **Reading from a File**: Once the file is open for reading, you can use various methods like `read()`, `readline()`, or `readlines()` to read the content of the file.\n",
    "\n",
    "3. **Writing to a File**: When a file is open for writing, you can use the `write()` method to write data to the file. If the file doesn't exist, Python will create it.\n",
    "\n",
    "4. **Appending to a File**: If you want to add content to an existing file, you can open it in append mode ('a') and use the `write()` method to add content at the end of the file.\n",
    "\n",
    "5. **Closing a File**: It's essential to close the file after you've finished working with it, using the `close()` method. Failing to close a file can lead to resource leaks.\n",
    "\n",
    "6. **Context Manager (with Statement)**: Python provides a `with` statement that automatically handles opening and closing files. This ensures that the file is properly closed, even if an exception occurs."
   ]
  },
  {
   "cell_type": "markdown",
   "metadata": {},
   "source": [
    "## opening a file"
   ]
  },
  {
   "cell_type": "markdown",
   "metadata": {},
   "source": [
    "``` python\n",
    "# example\n",
    "with open('./data/hello.txt', 'r') as f:\n",
    "    data = f.read()\n",
    "    print(data)\n",
    "```"
   ]
  },
  {
   "cell_type": "markdown",
   "metadata": {},
   "source": [
    "## Read Example"
   ]
  },
  {
   "cell_type": "code",
   "execution_count": 9,
   "metadata": {},
   "outputs": [],
   "source": [
    "# read \n",
    "# readlines\n",
    "# iterating"
   ]
  },
  {
   "cell_type": "markdown",
   "metadata": {},
   "source": [
    "## Write Example"
   ]
  },
  {
   "cell_type": "markdown",
   "metadata": {},
   "source": [
    "```python\n",
    "# Example\n",
    "with open('file. txt', 'w') as f:\n",
    "    f.write('Hello, world!')\n",
    "```"
   ]
  },
  {
   "cell_type": "markdown",
   "metadata": {},
   "source": [
    "## Write Example "
   ]
  },
  {
   "cell_type": "code",
   "execution_count": null,
   "metadata": {},
   "outputs": [],
   "source": [
    "# write to a file example "
   ]
  },
  {
   "cell_type": "markdown",
   "metadata": {},
   "source": [
    "## Append\n",
    "\n",
    "```python\n",
    "# example\n",
    "with open('file.txt', 'a') as f:\n",
    "    # Append some data to the file\n",
    "    f.write('Hello, world!')\n",
    "```"
   ]
  },
  {
   "cell_type": "markdown",
   "metadata": {},
   "source": [
    "## Append example"
   ]
  },
  {
   "cell_type": "code",
   "execution_count": null,
   "metadata": {},
   "outputs": [],
   "source": [
    "# append to a file example "
   ]
  },
  {
   "cell_type": "markdown",
   "metadata": {},
   "source": [
    "## CSV\n",
    "\n",
    "CSV (Comma Separated Values) data is a simple format for storing tabular data in plain text, where each line of the file represents a row, and the values within each row are separated by commas (or other delimiters like tabs, semicolons, etc.). It's a common file format used for data exchange between different software applications because of its simplicity and widespread support.\n",
    "\n",
    "Here's an example of CSV data representing a simple table:\n",
    "\n",
    "```\n",
    "Name, Age, City\n",
    "John, 25, New York\n",
    "Alice, 30, Los Angeles\n",
    "Bob, 22, Chicago\n",
    "```\n",
    "\n",
    "To read and manipulate CSV data in Python, you can use the built-in `csv` module.\n",
    "\n",
    "Here's a step-by-step guide with examples:"
   ]
  },
  {
   "cell_type": "markdown",
   "metadata": {},
   "source": [
    "## READING CSV DATA\n",
    "\n",
    "```python\n",
    "# example\n",
    "with open(\"./data/test.csv\") as f:\n",
    "    reader = csv.reader(f)\n",
    "    print(list(reader))\n",
    "\n",
    "```"
   ]
  },
  {
   "cell_type": "code",
   "execution_count": null,
   "metadata": {},
   "outputs": [],
   "source": [
    "# example"
   ]
  },
  {
   "cell_type": "markdown",
   "metadata": {},
   "source": [
    "## USING DICT READER\n",
    "\n",
    "```python\n",
    "# example\n",
    "with open(\"./data/test.csv\") as f:\n",
    "    reader = csv.DictReader(f)\n",
    "    print(list(reader))\n",
    "\n",
    "```"
   ]
  },
  {
   "cell_type": "code",
   "execution_count": 52,
   "metadata": {},
   "outputs": [],
   "source": [
    "# example using csv.DictReader(f)"
   ]
  },
  {
   "cell_type": "markdown",
   "metadata": {},
   "source": [
    "## JSON Data\n",
    "\n",
    "JSON (JavaScript Object Notation) is another common format for storing and exchanging data. It's more structured than CSV and supports nested data structures.\n",
    "\n",
    "Here's how you can read and manipulate JSON data in Python using the built-in `json` module:\n",
    "\n",
    "JSON objects are useful for storing and exchanging data because they are:\n",
    "\n",
    "* **Lightweight:** JSON objects are represented as text, which makes them easy to store and transmit.\n",
    "* **Human-readable :** JSON objects are easy for humans to read and understand.\n",
    "* **Machine-readable:** JSON objects can be easily parsed by computers."
   ]
  },
  {
   "cell_type": "markdown",
   "metadata": {},
   "source": [
    "The primitive JSON data types are:\n",
    "\n",
    "* **String:** A sequence of characters  enclosed in double quotes, e.g. \"Hello world\".\n",
    "* **Number:** A numeric value, e.g. 123.4 5.\n",
    "* **Boolean:** A logical value, either true or false.\n",
    "* **Null:** A value that represents the absence of a value.\n",
    "\n",
    "**Examples**\n",
    "\n",
    "```json\n",
    "{\n",
    "  \"name\": \"John Doe\",  // String\n",
    "  \"age\": 30,          // Number \n",
    "  \"isMarried\": false,  // Boolean\n",
    "  \"job\": null         // Null\n",
    "}\n",
    "``` "
   ]
  },
  {
   "cell_type": "markdown",
   "metadata": {},
   "source": [
    "## How to read JSON Data"
   ]
  },
  {
   "cell_type": "markdown",
   "metadata": {},
   "source": [
    "```python\n",
    "# example\n",
    "import json\n",
    "\n",
    "with open(\"./data/data.json\") as f:\n",
    "  data =  json.load(f)\n",
    "  print(data)\n",
    "```"
   ]
  },
  {
   "cell_type": "code",
   "execution_count": null,
   "metadata": {},
   "outputs": [],
   "source": [
    "# example on reading json file "
   ]
  },
  {
   "cell_type": "markdown",
   "metadata": {},
   "source": [
    "## JSON OBJECTS"
   ]
  },
  {
   "cell_type": "markdown",
   "metadata": {},
   "source": [
    "\n",
    "A JSON object is a collection of  key-value pairs. It is used to represent data in a structured way. The keys are strings, and the values can be any type of data, including  strings, numbers, booleans, arrays, and even other objects.\n",
    "\n",
    "\n",
    "**How to Create a JSON Object**\n",
    "\n",
    "To create a JSON object, you can use the following syntax:\n",
    "\n",
    "```json\n",
    "{\n",
    "  \"key1\": \"value1\",\n",
    "  \"key2\": \"value2\",\n",
    "  \"key3\": \"value3\"\n",
    "}\n",
    "```\n",
    "\n",
    "The keys must be enclosed in double quotes, and the values can be any type of data.\n",
    "\n",
    "**Example**\n",
    "\n",
    "The following is an example of a JSON object that represents a person: \n",
    "\n",
    "```json\n",
    "{\n",
    "  \"name\": \"John Doe\",\n",
    "  \" age\": 30,\n",
    "  \"occupation\": \"Software Engineer\"\n",
    "}\n",
    "```\n",
    "\n",
    "**How to Access Data from a JSON Object**\n",
    "\n",
    "To access data from a JSON object, you can use the dot notation or the bracket notation.\n",
    "\n",
    "**Dot Notation**\n",
    "\n",
    "The dot notation is used to access data from a JSON object using the following syntax:\n",
    "\n",
    "```python\n",
    "object.key\n",
    "```\n",
    "\n",
    "**Bracket Notation**\n",
    "\n",
    "The bracket notation is used to access data from a JSON object using the following syntax:\n",
    "\n",
    "```python\n",
    "object[\"key\"]\n",
    "```\n",
    "\n"
   ]
  },
  {
   "cell_type": "code",
   "execution_count": null,
   "metadata": {},
   "outputs": [],
   "source": [
    "# example "
   ]
  },
  {
   "cell_type": "markdown",
   "metadata": {},
   "source": [
    "## JSON List\n",
    "\n",
    "A JSON list is an ordered collection  of values. It is used to represent data that can be iterated over, such as an array of strings, numbers, or objects.\n",
    "\n",
    "**How to Create a JSON List**\n",
    "\n",
    "To create a JSON list, you can use the following syntax:\n",
    "\n",
    "```json\n",
    "[\n",
    "  \"value1\",\n",
    "  \"value2\",\n",
    "  \"value3\"\n",
    "]\n",
    "```\n",
    "\n",
    "The values in a list can be any type of data, including strings, numbers, booleans, and even other objects.\n",
    "\n",
    "**Example**\n",
    "\n",
    "The following is an example of a JSON list that represents an array of strings:\n",
    "\n",
    "```json\n",
    "[\"red\", \"green\", \"blue\"]\n",
    "```\n",
    "\n",
    "**How to Access Data from a  JSON List**\n",
    "\n",
    "To access data from a JSON list, you can use the index of the item you want to access. The index of the first item in a list is 0.\n"
   ]
  },
  {
   "cell_type": "code",
   "execution_count": null,
   "metadata": {},
   "outputs": [],
   "source": [
    "# example"
   ]
  },
  {
   "cell_type": "markdown",
   "metadata": {},
   "source": [
    "## Complex JSON Data"
   ]
  },
  {
   "cell_type": "markdown",
   "metadata": {},
   "source": [
    "```json\n",
    "{\n",
    "  \"name\": \"John Doe\",\n",
    "  \"age\": 30,\n",
    "  \"address\": {\n",
    "    \"street\": \"123 Main Street\",\n",
    "    \"city\": \" Anytown\",\n",
    "    \"state\": \"CA\",\n",
    "    \"zipcode\": \"12345\"\n",
    "  },\n",
    "  \"hobbies\": [\"coding\", \"reading\", \"travel\"]\n",
    "}\n",
    "\n",
    "```"
   ]
  },
  {
   "cell_type": "code",
   "execution_count": 51,
   "metadata": {},
   "outputs": [
    {
     "name": "stdout",
     "output_type": "stream",
     "text": [
      "Engineering\n"
     ]
    }
   ],
   "source": []
  },
  {
   "cell_type": "code",
   "execution_count": 46,
   "metadata": {},
   "outputs": [
    {
     "data": {
      "text/plain": [
       "\"At the end of a rainbow there is no pot of gold, it's Chuck Norris' cornhole.\""
      ]
     },
     "execution_count": 46,
     "metadata": {},
     "output_type": "execute_result"
    }
   ],
   "source": [
    "# import requests\n",
    "\n",
    "# response = requests.get('https://api.chucknorris.io/jokes/random')\n",
    "\n",
    "# data = response.json()\n",
    "\n",
    "# data['value']"
   ]
  }
 ],
 "metadata": {
  "kernelspec": {
   "display_name": "test",
   "language": "python",
   "name": "python3"
  },
  "language_info": {
   "codemirror_mode": {
    "name": "ipython",
    "version": 3
   },
   "file_extension": ".py",
   "mimetype": "text/x-python",
   "name": "python",
   "nbconvert_exporter": "python",
   "pygments_lexer": "ipython3",
   "version": "3.10.9"
  }
 },
 "nbformat": 4,
 "nbformat_minor": 2
}
